{
 "cells": [
  {
   "cell_type": "code",
   "execution_count": 2,
   "metadata": {},
   "outputs": [],
   "source": [
    "# IMPORTS\n",
    "import pandas as pd\n",
    "import numpy as np"
   ]
  },
  {
   "cell_type": "code",
   "execution_count": 4,
   "metadata": {},
   "outputs": [
    {
     "name": "stdout",
     "output_type": "stream",
     "text": [
      "Total GIMA readings should be: 378691200.0\n",
      "Total SAMIII readings should be: 37869120.0\n"
     ]
    }
   ],
   "source": [
    "# BACKGROUND CALCULATIONS\n",
    "num_years = 12\n",
    "num_leap_years = num_years/4\n",
    "num_sec_in_year = 31536000\n",
    "num_sec_in_leap_year = 31622400\n",
    "\n",
    "\n",
    "total_gima_readings = (num_sec_in_year * (num_years - num_leap_years)) + (num_sec_in_leap_year * num_leap_years)    # 1Hz readings\n",
    "total_samIII_readings = (total_gima_readings) / 10                                                                  # 10Hz readings\n",
    "\n",
    "print(f\"Total GIMA readings should be: {total_gima_readings}\")\n",
    "print(f\"Total SAMIII readings should be: {total_samIII_readings}\")"
   ]
  },
  {
   "cell_type": "code",
   "execution_count": 6,
   "metadata": {},
   "outputs": [
    {
     "name": "stdout",
     "output_type": "stream",
     "text": [
      "SAMIII Dataframe: \n",
      "                     x  y  z    H         D\n",
      "datetime                                   \n",
      "2010-10-12 02:07:05  0  0  0  0.0  0.000000\n",
      "2010-10-12 02:07:07  0  0  0  0.0  0.000000\n",
      "2010-10-12 02:07:09  0  0  0  0.0  0.000000\n",
      "2010-10-12 02:07:11  0  0  0  0.0  0.000000\n",
      "2010-10-12 02:07:23  0 -1  0  1.0 -1.570796\n",
      "...                 .. .. ..  ...       ...\n",
      "2022-12-31 23:59:10  0  0  3  0.0  0.000000\n",
      "2022-12-31 23:59:20  0  0  3  0.0  0.000000\n",
      "2022-12-31 23:59:30  0  0  3  0.0  0.000000\n",
      "2022-12-31 23:59:40  0  0  6  0.0  0.000000\n",
      "2022-12-31 23:59:50  2  0  3  2.0  0.000000\n",
      "\n",
      "[38452529 rows x 5 columns]\n",
      "\n",
      "\n",
      "Total SAMIII readings should be: 37869120.0 and has 38452529\n",
      "Discrepancy of 583409.0\n",
      "Where SAMIII has MORE than number of theoretical total readings per year\n"
     ]
    }
   ],
   "source": [
    "# SAMIII\n",
    "samIII_multiyear_database_dir = f\"D:/UAF/PHYS Capstone/pickles/samIII/2010-2022-SAMIII-Processed-Data.pickle\"\n",
    "samIII_all_years_dataframe = pd.read_pickle(samIII_multiyear_database_dir)\n",
    "num_samIII_rows = len(samIII_all_years_dataframe.index)\n",
    "print(\"SAMIII Dataframe: \")\n",
    "print(samIII_all_years_dataframe)\n",
    "print(\"\\n\")\n",
    "print(f\"Total SAMIII readings should be: {total_samIII_readings} and has {num_samIII_rows}\")\n",
    "print(f\"Discrepancy of {abs(total_samIII_readings - num_samIII_rows)}\")\n",
    "if total_samIII_readings > num_samIII_rows:\n",
    "    print(\"Where SAMIII has LESS than number of theoretical total readings per year\")\n",
    "else:\n",
    "    print(\"Where SAMIII has MORE than number of theoretical total readings per year\")"
   ]
  },
  {
   "cell_type": "code",
   "execution_count": 7,
   "metadata": {},
   "outputs": [
    {
     "name": "stdout",
     "output_type": "stream",
     "text": [
      "GIMA Dataframe: \n",
      "                          x       y       z         H         D\n",
      "datetime                                                       \n",
      "2010-01-10 21:27:33  0.0000  0.0000  0.0000  0.000000  0.000000\n",
      "2010-01-10 21:28:40  0.0157  0.0125 -0.0062  0.020068  0.672406\n",
      "2010-01-10 21:28:43  0.1657  0.4093  0.5250  0.441569  1.186127\n",
      "2010-01-10 21:28:44  0.1032  0.4468  0.5563  0.458563  1.343801\n",
      "2010-01-10 21:28:45  0.0532  0.4718  0.5969  0.474790  1.458511\n",
      "...                     ...     ...     ...       ...       ...\n",
      "2022-12-09 21:59:55 -0.1531  0.1625  0.0875  0.223262  2.326419\n",
      "2022-12-09 21:59:56 -0.1281  0.1437  0.0937  0.192508  2.298862\n",
      "2022-12-09 21:59:57 -0.0906  0.1375  0.0687  0.164665  2.153409\n",
      "2022-12-09 21:59:58 -0.0531  0.0875  0.0468  0.102352  2.116243\n",
      "2022-12-09 21:59:59 -0.0188  0.0343  0.0000  0.039114  2.072183\n",
      "\n",
      "[298510665 rows x 5 columns]\n",
      "\n",
      "\n",
      "Total GIMA readings should be: 378691200.0 and has 298510665\n",
      "Discrepancy of 80180535.0\n",
      "Where GIMA has LESS than number of theoretical total readings per year\n"
     ]
    }
   ],
   "source": [
    "# GIMA \n",
    "gima_multiyear_database_dir = f\"D:/UAF/PHYS Capstone/pickles/gima/trapper/2010-2022-GIMA-trapper-Processed-Data.pickle\"\n",
    "gima_all_years_dataframe = pd.read_pickle(gima_multiyear_database_dir)\n",
    "num_gima_rows = len(gima_all_years_dataframe.index)\n",
    "print(\"GIMA Dataframe: \")\n",
    "print(gima_all_years_dataframe)\n",
    "print(\"\\n\")\n",
    "print(f\"Total GIMA readings should be: {total_gima_readings} and has {num_gima_rows}\")\n",
    "print(f\"Discrepancy of {abs(total_gima_readings - num_gima_rows)}\")\n",
    "if total_gima_readings > num_gima_rows:\n",
    "    print(\"Where GIMA has LESS than number of theoretical total readings per year\")\n",
    "else:\n",
    "    print(\"Where GIMA has MORE than number of theoretical total readings per year\")"
   ]
  },
  {
   "cell_type": "code",
   "execution_count": 8,
   "metadata": {},
   "outputs": [
    {
     "name": "stdout",
     "output_type": "stream",
     "text": [
      "                     x  y  z    H         D   dH    dt      dHdt\n",
      "datetime                                                        \n",
      "2010-10-12 02:07:05  0  0  0  0.0  0.000000  NaN   NaN       NaN\n",
      "2010-10-12 02:07:07  0  0  0  0.0  0.000000  0.0   2.0  0.000000\n",
      "2010-10-12 02:07:09  0  0  0  0.0  0.000000  0.0   2.0  0.000000\n",
      "2010-10-12 02:07:11  0  0  0  0.0  0.000000  0.0   2.0  0.000000\n",
      "2010-10-12 02:07:23  0 -1  0  1.0 -1.570796  1.0  12.0  0.083333\n",
      "...                 .. .. ..  ...       ...  ...   ...       ...\n",
      "2022-12-31 23:59:10  0  0  3  0.0  0.000000  0.0  10.0  0.000000\n",
      "2022-12-31 23:59:20  0  0  3  0.0  0.000000  0.0  10.0  0.000000\n",
      "2022-12-31 23:59:30  0  0  3  0.0  0.000000  0.0  10.0  0.000000\n",
      "2022-12-31 23:59:40  0  0  6  0.0  0.000000  0.0  10.0  0.000000\n",
      "2022-12-31 23:59:50  2  0  3  2.0  0.000000  2.0  10.0  0.200000\n",
      "\n",
      "[38452529 rows x 8 columns]\n"
     ]
    }
   ],
   "source": [
    "# Calculate dH, dt in SAMIII data\n",
    "samIII_all_years_dataframe['dH'] = samIII_all_years_dataframe['H'].diff()#.fillna(np.nan)\n",
    "samIII_all_years_dataframe['dt'] = samIII_all_years_dataframe.index.to_series().diff().dt.total_seconds()#.fillna(np.nan)\n",
    "samIII_all_years_dataframe['dHdt'] = samIII_all_years_dataframe['dH'] / samIII_all_years_dataframe['dt']\n",
    "\n",
    "print(samIII_all_years_dataframe)\n",
    "samIII_multiyear_database_dir_dhdt = \"D:/UAF/PHYS Capstone/pickles/samIII/2010-2022-SAMIII-Processed-Data-dHdt.pickle\"\n",
    "samIII_all_years_dataframe.to_pickle(samIII_multiyear_database_dir_dhdt)"
   ]
  },
  {
   "cell_type": "code",
   "execution_count": 9,
   "metadata": {},
   "outputs": [
    {
     "name": "stdout",
     "output_type": "stream",
     "text": [
      "                          x       y       z         H         D        dH  \\\n",
      "datetime                                                                    \n",
      "2010-01-10 21:27:33  0.0000  0.0000  0.0000  0.000000  0.000000       NaN   \n",
      "2010-01-10 21:28:40  0.0157  0.0125 -0.0062  0.020068  0.672406  0.020068   \n",
      "2010-01-10 21:28:43  0.1657  0.4093  0.5250  0.441569  1.186127  0.421500   \n",
      "2010-01-10 21:28:44  0.1032  0.4468  0.5563  0.458563  1.343801  0.016995   \n",
      "2010-01-10 21:28:45  0.0532  0.4718  0.5969  0.474790  1.458511  0.016226   \n",
      "...                     ...     ...     ...       ...       ...       ...   \n",
      "2022-12-09 21:59:55 -0.1531  0.1625  0.0875  0.223262  2.326419  0.017821   \n",
      "2022-12-09 21:59:56 -0.1281  0.1437  0.0937  0.192508  2.298862 -0.030754   \n",
      "2022-12-09 21:59:57 -0.0906  0.1375  0.0687  0.164665  2.153409 -0.027843   \n",
      "2022-12-09 21:59:58 -0.0531  0.0875  0.0468  0.102352  2.116243 -0.062313   \n",
      "2022-12-09 21:59:59 -0.0188  0.0343  0.0000  0.039114  2.072183 -0.063237   \n",
      "\n",
      "                       dt      dHdt  \n",
      "datetime                             \n",
      "2010-01-10 21:27:33   NaN       NaN  \n",
      "2010-01-10 21:28:40  67.0  0.000300  \n",
      "2010-01-10 21:28:43   3.0  0.140500  \n",
      "2010-01-10 21:28:44   1.0  0.016995  \n",
      "2010-01-10 21:28:45   1.0  0.016226  \n",
      "...                   ...       ...  \n",
      "2022-12-09 21:59:55   1.0  0.017821  \n",
      "2022-12-09 21:59:56   1.0 -0.030754  \n",
      "2022-12-09 21:59:57   1.0 -0.027843  \n",
      "2022-12-09 21:59:58   1.0 -0.062313  \n",
      "2022-12-09 21:59:59   1.0 -0.063237  \n",
      "\n",
      "[298510665 rows x 8 columns]\n"
     ]
    }
   ],
   "source": [
    "# Calculate dH, dt in GIMA data\n",
    "gima_all_years_dataframe['dH'] = gima_all_years_dataframe['H'].diff()#.fillna(np.nan)\n",
    "gima_all_years_dataframe['dt'] = gima_all_years_dataframe.index.to_series().diff().dt.total_seconds()#.fillna(np.nan)\n",
    "gima_all_years_dataframe['dHdt'] = gima_all_years_dataframe['dH'] / gima_all_years_dataframe['dt']\n",
    "\n",
    "print(gima_all_years_dataframe)\n",
    "gima_multiyear_database_dir_dhdt = f\"D:/UAF/PHYS Capstone/pickles/gima/trapper/2010-2022-GIMA-trapper-Processed-Data-dHdt.pickle\"\n",
    "gima_all_years_dataframe.to_pickle(gima_multiyear_database_dir_dhdt)"
   ]
  },
  {
   "cell_type": "code",
   "execution_count": 10,
   "metadata": {},
   "outputs": [
    {
     "name": "stdout",
     "output_type": "stream",
     "text": [
      "                       x    y    z         H         D        dH    dt  \\\n",
      "datetime                                                                 \n",
      "2010-10-12 02:07:00  0.0  3.0  3.0  3.000000  1.570796  2.000000  12.0   \n",
      "2010-10-12 02:08:00  0.0  1.0  3.0  1.000000  1.570796  0.000000   2.0   \n",
      "2010-10-12 02:09:00  2.0  1.0  3.0  2.236068  0.463648  1.236068   2.0   \n",
      "2010-10-12 02:10:00  4.0  1.0  3.0  4.123106  0.463648  1.887038   2.0   \n",
      "2010-10-12 02:11:00  5.0  1.0  0.0  5.099020  0.463648  1.887038   2.0   \n",
      "...                  ...  ...  ...       ...       ...       ...   ...   \n",
      "2022-12-31 23:55:00  2.0  3.0  0.0  3.605551  3.141593  1.369483  10.0   \n",
      "2022-12-31 23:56:00  2.0  1.0  3.0  2.236068  3.141593  2.000000  10.0   \n",
      "2022-12-31 23:57:00  2.0  0.0  3.0  2.000000  0.000000  0.000000  11.0   \n",
      "2022-12-31 23:58:00  0.0  1.0  3.0  1.000000  1.570796  2.000000  10.0   \n",
      "2022-12-31 23:59:00  2.0  0.0  6.0  2.000000  0.000000  2.000000  10.0   \n",
      "\n",
      "                         dHdt  \n",
      "datetime                       \n",
      "2010-10-12 02:07:00  1.000000  \n",
      "2010-10-12 02:08:00  0.000000  \n",
      "2010-10-12 02:09:00  0.618034  \n",
      "2010-10-12 02:10:00  0.943519  \n",
      "2010-10-12 02:11:00  0.943519  \n",
      "...                       ...  \n",
      "2022-12-31 23:55:00  0.136948  \n",
      "2022-12-31 23:56:00  0.200000  \n",
      "2022-12-31 23:57:00  0.000000  \n",
      "2022-12-31 23:58:00  0.200000  \n",
      "2022-12-31 23:59:00  0.200000  \n",
      "\n",
      "[6428033 rows x 8 columns]\n"
     ]
    }
   ],
   "source": [
    "# SAMIII DATA CONVERTED TO POSITIVE VALUES AND RESAMPLED BY MINUTE\n",
    "\n",
    "samIII_all_years_dataframe = samIII_all_years_dataframe.apply(np.abs)\n",
    "samIII_all_years_dataframe = samIII_all_years_dataframe.resample('1T').max()\n",
    "\n",
    "print(samIII_all_years_dataframe)\n",
    "samIII_multiyear_database_dir_dhdt_min_resampled = \"D:/UAF/PHYS Capstone/pickles/samIII/2010-2022-SAMIII-Processed-Data-dHdt-pos-min.pickle\"\n",
    "samIII_all_years_dataframe.to_pickle(samIII_multiyear_database_dir_dhdt_min_resampled)"
   ]
  },
  {
   "cell_type": "code",
   "execution_count": 11,
   "metadata": {},
   "outputs": [
    {
     "ename": "MemoryError",
     "evalue": "Unable to allocate 17.8 GiB for an array with shape (8, 298510665) and data type float64",
     "output_type": "error",
     "traceback": [
      "\u001b[1;31m---------------------------------------------------------------------------\u001b[0m",
      "\u001b[1;31mMemoryError\u001b[0m                               Traceback (most recent call last)",
      "Cell \u001b[1;32mIn[11], line 4\u001b[0m\n\u001b[0;32m      1\u001b[0m \u001b[39m# GIMA DATA CONVERTED TO POSITIVE VALUES AND RESAMPLED BY MINUTE\u001b[39;00m\n\u001b[0;32m      3\u001b[0m gima_all_years_dataframe \u001b[39m=\u001b[39m gima_all_years_dataframe\u001b[39m.\u001b[39mapply(np\u001b[39m.\u001b[39mabs)\n\u001b[1;32m----> 4\u001b[0m gima_all_years_dataframe \u001b[39m=\u001b[39m gima_all_years_dataframe\u001b[39m.\u001b[39;49mresample(\u001b[39m'\u001b[39;49m\u001b[39m1T\u001b[39;49m\u001b[39m'\u001b[39;49m)\u001b[39m.\u001b[39mmax()\n\u001b[0;32m      6\u001b[0m \u001b[39mprint\u001b[39m(gima_all_years_dataframe)\n\u001b[0;32m      7\u001b[0m gima_multiyear_database_dir_dhdt_min_resampled \u001b[39m=\u001b[39m \u001b[39mf\u001b[39m\u001b[39m\"\u001b[39m\u001b[39mD:/UAF/PHYS Capstone/pickles/gima/trapper/2010-2022-GIMA-trapper-Processed-Data-dHdt-pos-min.pickle\u001b[39m\u001b[39m\"\u001b[39m\n",
      "File \u001b[1;32mc:\\Users\\Hunter\\miniconda3\\envs\\SAMIII-data\\lib\\site-packages\\pandas\\core\\frame.py:10550\u001b[0m, in \u001b[0;36mDataFrame.resample\u001b[1;34m(self, rule, axis, closed, label, convention, kind, loffset, base, on, level, origin, offset)\u001b[0m\n\u001b[0;32m  10534\u001b[0m \u001b[39m@doc\u001b[39m(NDFrame\u001b[39m.\u001b[39mresample, \u001b[39m*\u001b[39m\u001b[39m*\u001b[39m_shared_doc_kwargs)\n\u001b[0;32m  10535\u001b[0m \u001b[39mdef\u001b[39;00m \u001b[39mresample\u001b[39m(\n\u001b[0;32m  10536\u001b[0m     \u001b[39mself\u001b[39m,\n\u001b[1;32m   (...)\u001b[0m\n\u001b[0;32m  10548\u001b[0m     offset: TimedeltaConvertibleTypes \u001b[39m|\u001b[39m \u001b[39mNone\u001b[39;00m \u001b[39m=\u001b[39m \u001b[39mNone\u001b[39;00m,\n\u001b[0;32m  10549\u001b[0m ) \u001b[39m-\u001b[39m\u001b[39m>\u001b[39m Resampler:\n\u001b[1;32m> 10550\u001b[0m     \u001b[39mreturn\u001b[39;00m \u001b[39msuper\u001b[39;49m()\u001b[39m.\u001b[39;49mresample(\n\u001b[0;32m  10551\u001b[0m         rule\u001b[39m=\u001b[39;49mrule,\n\u001b[0;32m  10552\u001b[0m         axis\u001b[39m=\u001b[39;49maxis,\n\u001b[0;32m  10553\u001b[0m         closed\u001b[39m=\u001b[39;49mclosed,\n\u001b[0;32m  10554\u001b[0m         label\u001b[39m=\u001b[39;49mlabel,\n\u001b[0;32m  10555\u001b[0m         convention\u001b[39m=\u001b[39;49mconvention,\n\u001b[0;32m  10556\u001b[0m         kind\u001b[39m=\u001b[39;49mkind,\n\u001b[0;32m  10557\u001b[0m         loffset\u001b[39m=\u001b[39;49mloffset,\n\u001b[0;32m  10558\u001b[0m         base\u001b[39m=\u001b[39;49mbase,\n\u001b[0;32m  10559\u001b[0m         on\u001b[39m=\u001b[39;49mon,\n\u001b[0;32m  10560\u001b[0m         level\u001b[39m=\u001b[39;49mlevel,\n\u001b[0;32m  10561\u001b[0m         origin\u001b[39m=\u001b[39;49morigin,\n\u001b[0;32m  10562\u001b[0m         offset\u001b[39m=\u001b[39;49moffset,\n\u001b[0;32m  10563\u001b[0m     )\n",
      "File \u001b[1;32mc:\\Users\\Hunter\\miniconda3\\envs\\SAMIII-data\\lib\\site-packages\\pandas\\core\\generic.py:8313\u001b[0m, in \u001b[0;36mNDFrame.resample\u001b[1;34m(self, rule, axis, closed, label, convention, kind, loffset, base, on, level, origin, offset)\u001b[0m\n\u001b[0;32m   8310\u001b[0m \u001b[39mfrom\u001b[39;00m \u001b[39mpandas\u001b[39;00m\u001b[39m.\u001b[39;00m\u001b[39mcore\u001b[39;00m\u001b[39m.\u001b[39;00m\u001b[39mresample\u001b[39;00m \u001b[39mimport\u001b[39;00m get_resampler\n\u001b[0;32m   8312\u001b[0m axis \u001b[39m=\u001b[39m \u001b[39mself\u001b[39m\u001b[39m.\u001b[39m_get_axis_number(axis)\n\u001b[1;32m-> 8313\u001b[0m \u001b[39mreturn\u001b[39;00m get_resampler(\n\u001b[0;32m   8314\u001b[0m     \u001b[39mself\u001b[39;49m,\n\u001b[0;32m   8315\u001b[0m     freq\u001b[39m=\u001b[39;49mrule,\n\u001b[0;32m   8316\u001b[0m     label\u001b[39m=\u001b[39;49mlabel,\n\u001b[0;32m   8317\u001b[0m     closed\u001b[39m=\u001b[39;49mclosed,\n\u001b[0;32m   8318\u001b[0m     axis\u001b[39m=\u001b[39;49maxis,\n\u001b[0;32m   8319\u001b[0m     kind\u001b[39m=\u001b[39;49mkind,\n\u001b[0;32m   8320\u001b[0m     loffset\u001b[39m=\u001b[39;49mloffset,\n\u001b[0;32m   8321\u001b[0m     convention\u001b[39m=\u001b[39;49mconvention,\n\u001b[0;32m   8322\u001b[0m     base\u001b[39m=\u001b[39;49mbase,\n\u001b[0;32m   8323\u001b[0m     key\u001b[39m=\u001b[39;49mon,\n\u001b[0;32m   8324\u001b[0m     level\u001b[39m=\u001b[39;49mlevel,\n\u001b[0;32m   8325\u001b[0m     origin\u001b[39m=\u001b[39;49morigin,\n\u001b[0;32m   8326\u001b[0m     offset\u001b[39m=\u001b[39;49moffset,\n\u001b[0;32m   8327\u001b[0m )\n",
      "File \u001b[1;32mc:\\Users\\Hunter\\miniconda3\\envs\\SAMIII-data\\lib\\site-packages\\pandas\\core\\resample.py:1423\u001b[0m, in \u001b[0;36mget_resampler\u001b[1;34m(obj, kind, **kwds)\u001b[0m\n\u001b[0;32m   1419\u001b[0m \u001b[39m\u001b[39m\u001b[39m\"\"\"\u001b[39;00m\n\u001b[0;32m   1420\u001b[0m \u001b[39mCreate a TimeGrouper and return our resampler.\u001b[39;00m\n\u001b[0;32m   1421\u001b[0m \u001b[39m\"\"\"\u001b[39;00m\n\u001b[0;32m   1422\u001b[0m tg \u001b[39m=\u001b[39m TimeGrouper(\u001b[39m*\u001b[39m\u001b[39m*\u001b[39mkwds)\n\u001b[1;32m-> 1423\u001b[0m \u001b[39mreturn\u001b[39;00m tg\u001b[39m.\u001b[39;49m_get_resampler(obj, kind\u001b[39m=\u001b[39;49mkind)\n",
      "File \u001b[1;32mc:\\Users\\Hunter\\miniconda3\\envs\\SAMIII-data\\lib\\site-packages\\pandas\\core\\resample.py:1589\u001b[0m, in \u001b[0;36mTimeGrouper._get_resampler\u001b[1;34m(self, obj, kind)\u001b[0m\n\u001b[0;32m   1570\u001b[0m \u001b[39mdef\u001b[39;00m \u001b[39m_get_resampler\u001b[39m(\u001b[39mself\u001b[39m, obj, kind\u001b[39m=\u001b[39m\u001b[39mNone\u001b[39;00m):\n\u001b[0;32m   1571\u001b[0m \u001b[39m    \u001b[39m\u001b[39m\"\"\"\u001b[39;00m\n\u001b[0;32m   1572\u001b[0m \u001b[39m    Return my resampler or raise if we have an invalid axis.\u001b[39;00m\n\u001b[0;32m   1573\u001b[0m \n\u001b[1;32m   (...)\u001b[0m\n\u001b[0;32m   1587\u001b[0m \n\u001b[0;32m   1588\u001b[0m \u001b[39m    \"\"\"\u001b[39;00m\n\u001b[1;32m-> 1589\u001b[0m     \u001b[39mself\u001b[39;49m\u001b[39m.\u001b[39;49m_set_grouper(obj)\n\u001b[0;32m   1591\u001b[0m     ax \u001b[39m=\u001b[39m \u001b[39mself\u001b[39m\u001b[39m.\u001b[39max\n\u001b[0;32m   1592\u001b[0m     \u001b[39mif\u001b[39;00m \u001b[39misinstance\u001b[39m(ax, DatetimeIndex):\n",
      "File \u001b[1;32mc:\\Users\\Hunter\\miniconda3\\envs\\SAMIII-data\\lib\\site-packages\\pandas\\core\\groupby\\grouper.py:410\u001b[0m, in \u001b[0;36mGrouper._set_grouper\u001b[1;34m(self, obj, sort)\u001b[0m\n\u001b[0;32m    406\u001b[0m     indexer \u001b[39m=\u001b[39m \u001b[39mself\u001b[39m\u001b[39m.\u001b[39mindexer \u001b[39m=\u001b[39m ax\u001b[39m.\u001b[39marray\u001b[39m.\u001b[39margsort(\n\u001b[0;32m    407\u001b[0m         kind\u001b[39m=\u001b[39m\u001b[39m\"\u001b[39m\u001b[39mmergesort\u001b[39m\u001b[39m\"\u001b[39m, na_position\u001b[39m=\u001b[39m\u001b[39m\"\u001b[39m\u001b[39mfirst\u001b[39m\u001b[39m\"\u001b[39m\n\u001b[0;32m    408\u001b[0m     )\n\u001b[0;32m    409\u001b[0m     ax \u001b[39m=\u001b[39m ax\u001b[39m.\u001b[39mtake(indexer)\n\u001b[1;32m--> 410\u001b[0m     obj \u001b[39m=\u001b[39m obj\u001b[39m.\u001b[39;49mtake(indexer, axis\u001b[39m=\u001b[39;49m\u001b[39mself\u001b[39;49m\u001b[39m.\u001b[39;49maxis)\n\u001b[0;32m    412\u001b[0m \u001b[39m# error: Incompatible types in assignment (expression has type\u001b[39;00m\n\u001b[0;32m    413\u001b[0m \u001b[39m# \"NDFrameT\", variable has type \"None\")\u001b[39;00m\n\u001b[0;32m    414\u001b[0m \u001b[39mself\u001b[39m\u001b[39m.\u001b[39mobj \u001b[39m=\u001b[39m obj  \u001b[39m# type: ignore[assignment]\u001b[39;00m\n",
      "File \u001b[1;32mc:\\Users\\Hunter\\miniconda3\\envs\\SAMIII-data\\lib\\site-packages\\pandas\\core\\generic.py:3701\u001b[0m, in \u001b[0;36mNDFrame.take\u001b[1;34m(self, indices, axis, is_copy, **kwargs)\u001b[0m\n\u001b[0;32m   3692\u001b[0m     warnings\u001b[39m.\u001b[39mwarn(\n\u001b[0;32m   3693\u001b[0m         \u001b[39m\"\u001b[39m\u001b[39mis_copy is deprecated and will be removed in a future version. \u001b[39m\u001b[39m\"\u001b[39m\n\u001b[0;32m   3694\u001b[0m         \u001b[39m\"\u001b[39m\u001b[39m'\u001b[39m\u001b[39mtake\u001b[39m\u001b[39m'\u001b[39m\u001b[39m always returns a copy, so there is no need to specify this.\u001b[39m\u001b[39m\"\u001b[39m,\n\u001b[0;32m   3695\u001b[0m         \u001b[39mFutureWarning\u001b[39;00m,\n\u001b[0;32m   3696\u001b[0m         stacklevel\u001b[39m=\u001b[39mfind_stack_level(),\n\u001b[0;32m   3697\u001b[0m     )\n\u001b[0;32m   3699\u001b[0m nv\u001b[39m.\u001b[39mvalidate_take((), kwargs)\n\u001b[1;32m-> 3701\u001b[0m \u001b[39mself\u001b[39;49m\u001b[39m.\u001b[39;49m_consolidate_inplace()\n\u001b[0;32m   3703\u001b[0m new_data \u001b[39m=\u001b[39m \u001b[39mself\u001b[39m\u001b[39m.\u001b[39m_mgr\u001b[39m.\u001b[39mtake(\n\u001b[0;32m   3704\u001b[0m     indices, axis\u001b[39m=\u001b[39m\u001b[39mself\u001b[39m\u001b[39m.\u001b[39m_get_block_manager_axis(axis), verify\u001b[39m=\u001b[39m\u001b[39mTrue\u001b[39;00m\n\u001b[0;32m   3705\u001b[0m )\n\u001b[0;32m   3706\u001b[0m \u001b[39mreturn\u001b[39;00m \u001b[39mself\u001b[39m\u001b[39m.\u001b[39m_constructor(new_data)\u001b[39m.\u001b[39m__finalize__(\u001b[39mself\u001b[39m, method\u001b[39m=\u001b[39m\u001b[39m\"\u001b[39m\u001b[39mtake\u001b[39m\u001b[39m\"\u001b[39m)\n",
      "File \u001b[1;32mc:\\Users\\Hunter\\miniconda3\\envs\\SAMIII-data\\lib\\site-packages\\pandas\\core\\generic.py:5653\u001b[0m, in \u001b[0;36mNDFrame._consolidate_inplace\u001b[1;34m(self)\u001b[0m\n\u001b[0;32m   5650\u001b[0m \u001b[39mdef\u001b[39;00m \u001b[39mf\u001b[39m():\n\u001b[0;32m   5651\u001b[0m     \u001b[39mself\u001b[39m\u001b[39m.\u001b[39m_mgr \u001b[39m=\u001b[39m \u001b[39mself\u001b[39m\u001b[39m.\u001b[39m_mgr\u001b[39m.\u001b[39mconsolidate()\n\u001b[1;32m-> 5653\u001b[0m \u001b[39mself\u001b[39;49m\u001b[39m.\u001b[39;49m_protect_consolidate(f)\n",
      "File \u001b[1;32mc:\\Users\\Hunter\\miniconda3\\envs\\SAMIII-data\\lib\\site-packages\\pandas\\core\\generic.py:5641\u001b[0m, in \u001b[0;36mNDFrame._protect_consolidate\u001b[1;34m(self, f)\u001b[0m\n\u001b[0;32m   5639\u001b[0m     \u001b[39mreturn\u001b[39;00m f()\n\u001b[0;32m   5640\u001b[0m blocks_before \u001b[39m=\u001b[39m \u001b[39mlen\u001b[39m(\u001b[39mself\u001b[39m\u001b[39m.\u001b[39m_mgr\u001b[39m.\u001b[39mblocks)\n\u001b[1;32m-> 5641\u001b[0m result \u001b[39m=\u001b[39m f()\n\u001b[0;32m   5642\u001b[0m \u001b[39mif\u001b[39;00m \u001b[39mlen\u001b[39m(\u001b[39mself\u001b[39m\u001b[39m.\u001b[39m_mgr\u001b[39m.\u001b[39mblocks) \u001b[39m!=\u001b[39m blocks_before:\n\u001b[0;32m   5643\u001b[0m     \u001b[39mself\u001b[39m\u001b[39m.\u001b[39m_clear_item_cache()\n",
      "File \u001b[1;32mc:\\Users\\Hunter\\miniconda3\\envs\\SAMIII-data\\lib\\site-packages\\pandas\\core\\generic.py:5651\u001b[0m, in \u001b[0;36mNDFrame._consolidate_inplace.<locals>.f\u001b[1;34m()\u001b[0m\n\u001b[0;32m   5650\u001b[0m \u001b[39mdef\u001b[39;00m \u001b[39mf\u001b[39m():\n\u001b[1;32m-> 5651\u001b[0m     \u001b[39mself\u001b[39m\u001b[39m.\u001b[39m_mgr \u001b[39m=\u001b[39m \u001b[39mself\u001b[39;49m\u001b[39m.\u001b[39;49m_mgr\u001b[39m.\u001b[39;49mconsolidate()\n",
      "File \u001b[1;32mc:\\Users\\Hunter\\miniconda3\\envs\\SAMIII-data\\lib\\site-packages\\pandas\\core\\internals\\managers.py:631\u001b[0m, in \u001b[0;36mBaseBlockManager.consolidate\u001b[1;34m(self)\u001b[0m\n\u001b[0;32m    629\u001b[0m bm \u001b[39m=\u001b[39m \u001b[39mtype\u001b[39m(\u001b[39mself\u001b[39m)(\u001b[39mself\u001b[39m\u001b[39m.\u001b[39mblocks, \u001b[39mself\u001b[39m\u001b[39m.\u001b[39maxes, verify_integrity\u001b[39m=\u001b[39m\u001b[39mFalse\u001b[39;00m)\n\u001b[0;32m    630\u001b[0m bm\u001b[39m.\u001b[39m_is_consolidated \u001b[39m=\u001b[39m \u001b[39mFalse\u001b[39;00m\n\u001b[1;32m--> 631\u001b[0m bm\u001b[39m.\u001b[39;49m_consolidate_inplace()\n\u001b[0;32m    632\u001b[0m \u001b[39mreturn\u001b[39;00m bm\n",
      "File \u001b[1;32mc:\\Users\\Hunter\\miniconda3\\envs\\SAMIII-data\\lib\\site-packages\\pandas\\core\\internals\\managers.py:1699\u001b[0m, in \u001b[0;36mBlockManager._consolidate_inplace\u001b[1;34m(self)\u001b[0m\n\u001b[0;32m   1693\u001b[0m \u001b[39mdef\u001b[39;00m \u001b[39m_consolidate_inplace\u001b[39m(\u001b[39mself\u001b[39m) \u001b[39m-\u001b[39m\u001b[39m>\u001b[39m \u001b[39mNone\u001b[39;00m:\n\u001b[0;32m   1694\u001b[0m     \u001b[39m# In general, _consolidate_inplace should only be called via\u001b[39;00m\n\u001b[0;32m   1695\u001b[0m     \u001b[39m#  DataFrame._consolidate_inplace, otherwise we will fail to invalidate\u001b[39;00m\n\u001b[0;32m   1696\u001b[0m     \u001b[39m#  the DataFrame's _item_cache. The exception is for newly-created\u001b[39;00m\n\u001b[0;32m   1697\u001b[0m     \u001b[39m#  BlockManager objects not yet attached to a DataFrame.\u001b[39;00m\n\u001b[0;32m   1698\u001b[0m     \u001b[39mif\u001b[39;00m \u001b[39mnot\u001b[39;00m \u001b[39mself\u001b[39m\u001b[39m.\u001b[39mis_consolidated():\n\u001b[1;32m-> 1699\u001b[0m         \u001b[39mself\u001b[39m\u001b[39m.\u001b[39mblocks \u001b[39m=\u001b[39m \u001b[39mtuple\u001b[39m(_consolidate(\u001b[39mself\u001b[39;49m\u001b[39m.\u001b[39;49mblocks))\n\u001b[0;32m   1700\u001b[0m         \u001b[39mself\u001b[39m\u001b[39m.\u001b[39m_is_consolidated \u001b[39m=\u001b[39m \u001b[39mTrue\u001b[39;00m\n\u001b[0;32m   1701\u001b[0m         \u001b[39mself\u001b[39m\u001b[39m.\u001b[39m_known_consolidated \u001b[39m=\u001b[39m \u001b[39mTrue\u001b[39;00m\n",
      "File \u001b[1;32mc:\\Users\\Hunter\\miniconda3\\envs\\SAMIII-data\\lib\\site-packages\\pandas\\core\\internals\\managers.py:2098\u001b[0m, in \u001b[0;36m_consolidate\u001b[1;34m(blocks)\u001b[0m\n\u001b[0;32m   2096\u001b[0m new_blocks: \u001b[39mlist\u001b[39m[Block] \u001b[39m=\u001b[39m []\n\u001b[0;32m   2097\u001b[0m \u001b[39mfor\u001b[39;00m (_can_consolidate, dtype), group_blocks \u001b[39min\u001b[39;00m grouper:\n\u001b[1;32m-> 2098\u001b[0m     merged_blocks \u001b[39m=\u001b[39m _merge_blocks(\n\u001b[0;32m   2099\u001b[0m         \u001b[39mlist\u001b[39;49m(group_blocks), dtype\u001b[39m=\u001b[39;49mdtype, can_consolidate\u001b[39m=\u001b[39;49m_can_consolidate\n\u001b[0;32m   2100\u001b[0m     )\n\u001b[0;32m   2101\u001b[0m     new_blocks \u001b[39m=\u001b[39m extend_blocks(merged_blocks, new_blocks)\n\u001b[0;32m   2102\u001b[0m \u001b[39mreturn\u001b[39;00m new_blocks\n",
      "File \u001b[1;32mc:\\Users\\Hunter\\miniconda3\\envs\\SAMIII-data\\lib\\site-packages\\pandas\\core\\internals\\managers.py:2132\u001b[0m, in \u001b[0;36m_merge_blocks\u001b[1;34m(blocks, dtype, can_consolidate)\u001b[0m\n\u001b[0;32m   2129\u001b[0m     new_values \u001b[39m=\u001b[39m bvals2[\u001b[39m0\u001b[39m]\u001b[39m.\u001b[39m_concat_same_type(bvals2, axis\u001b[39m=\u001b[39m\u001b[39m0\u001b[39m)\n\u001b[0;32m   2131\u001b[0m argsort \u001b[39m=\u001b[39m np\u001b[39m.\u001b[39margsort(new_mgr_locs)\n\u001b[1;32m-> 2132\u001b[0m new_values \u001b[39m=\u001b[39m new_values[argsort]\n\u001b[0;32m   2133\u001b[0m new_mgr_locs \u001b[39m=\u001b[39m new_mgr_locs[argsort]\n\u001b[0;32m   2135\u001b[0m bp \u001b[39m=\u001b[39m BlockPlacement(new_mgr_locs)\n",
      "\u001b[1;31mMemoryError\u001b[0m: Unable to allocate 17.8 GiB for an array with shape (8, 298510665) and data type float64"
     ]
    }
   ],
   "source": [
    "# GIMA DATA CONVERTED TO POSITIVE VALUES AND RESAMPLED BY MINUTE\n",
    "\n",
    "gima_all_years_dataframe = gima_all_years_dataframe.apply(np.abs)\n",
    "gima_all_years_dataframe = gima_all_years_dataframe.resample('1T').max()\n",
    "\n",
    "print(gima_all_years_dataframe)\n",
    "gima_multiyear_database_dir_dhdt_min_resampled = f\"D:/UAF/PHYS Capstone/pickles/gima/trapper/2010-2022-GIMA-trapper-Processed-Data-dHdt-pos-min.pickle\"\n",
    "gima_all_years_dataframe.to_pickle(gima_multiyear_database_dir_dhdt_min_resampled)"
   ]
  }
 ],
 "metadata": {
  "kernelspec": {
   "display_name": "SAMIII-data",
   "language": "python",
   "name": "python3"
  },
  "language_info": {
   "codemirror_mode": {
    "name": "ipython",
    "version": 3
   },
   "file_extension": ".py",
   "mimetype": "text/x-python",
   "name": "python",
   "nbconvert_exporter": "python",
   "pygments_lexer": "ipython3",
   "version": "3.10.6"
  },
  "orig_nbformat": 4
 },
 "nbformat": 4,
 "nbformat_minor": 2
}
