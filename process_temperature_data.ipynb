{
 "cells": [
  {
   "cell_type": "code",
   "execution_count": 18,
   "metadata": {},
   "outputs": [],
   "source": [
    "# IMPORTS\n",
    "import pandas as pd\n",
    "import numpy as np"
   ]
  },
  {
   "cell_type": "code",
   "execution_count": 19,
   "metadata": {},
   "outputs": [],
   "source": [
    "# READ IN TEMPERATURE DATA\n",
    "\n",
    "temp_data_dir = f\"D:/UAF/PHYS Capstone/rwis.csv\"\n",
    "temp_data = pd.read_csv(temp_data_dir)"
   ]
  },
  {
   "cell_type": "code",
   "execution_count": 20,
   "metadata": {},
   "outputs": [
    {
     "name": "stdout",
     "output_type": "stream",
     "text": [
      "temp_data['obtime'] : 0         2011-11-04 03:26:00\n",
      "1         2011-11-04 04:26:00\n",
      "2         2011-11-04 05:26:00\n",
      "3         2011-11-04 07:26:00\n",
      "4         2011-11-04 08:26:00\n",
      "                 ...         \n",
      "119873    2022-12-31 20:30:00\n",
      "119874    2022-12-31 21:10:00\n",
      "119875    2022-12-31 21:30:00\n",
      "119876    2022-12-31 22:10:00\n",
      "119877    2022-12-31 22:30:00\n",
      "Name: obtime, Length: 119878, dtype: object\n",
      "Format: 2011-11-04 03:26:00\n",
      "Index Type: 2011-11-04 03:26:00\n",
      "                    station   longitude   latitude   subf\n",
      "obtime                                                   \n",
      "2011-11-04 03:26:00   GERA2 -149.630661  61.277966  30.20\n",
      "2011-11-04 04:26:00   GERA2 -149.630661  61.277966  30.20\n",
      "2011-11-04 05:26:00   GERA2 -149.630661  61.277966  30.38\n",
      "2011-11-04 07:26:00   GERA2 -149.630661  61.277966  30.38\n",
      "2011-11-04 08:26:00   GERA2 -149.630661  61.277966  30.38\n",
      "...                     ...         ...        ...    ...\n",
      "2022-12-31 20:30:00   GERA2 -149.630661  61.277966    NaN\n",
      "2022-12-31 21:10:00   GERA2 -149.630661  61.277966    NaN\n",
      "2022-12-31 21:30:00   GERA2 -149.630661  61.277966    NaN\n",
      "2022-12-31 22:10:00   GERA2 -149.630661  61.277966    NaN\n",
      "2022-12-31 22:30:00   GERA2 -149.630661  61.277966    NaN\n",
      "\n",
      "[119878 rows x 4 columns]\n"
     ]
    }
   ],
   "source": [
    "# CREATE DATETIME OBJECTS OUT OF DATE COL AND SET AS INDEX\n",
    "\n",
    "temp_date_date_format_execl = '%m/%d/%Y %I:%M:%S %p'\n",
    "# Apparently excel automatically changes to this format:\n",
    "temp_date_date_format = '%Y-%m-%d %H:%M:%S'\n",
    "\n",
    "print(f\"temp_data['obtime'] : {temp_data['obtime']}\")\n",
    "print(f\"Format: {temp_data['obtime'][0]}\")\n",
    "\n",
    "temp_data['obtime'] = pd.to_datetime(temp_data['obtime'], format=temp_date_date_format)\n",
    "temp_data.set_index('obtime', inplace=True)\n",
    "print(f'Index Type: {temp_data.index[0]}')\n",
    "print(temp_data)"
   ]
  },
  {
   "cell_type": "code",
   "execution_count": 21,
   "metadata": {},
   "outputs": [
    {
     "name": "stdout",
     "output_type": "stream",
     "text": [
      "Entries: 119878\n",
      "Entries after the drop: 38311\n",
      "                    station   longitude   latitude   subf\n",
      "obtime                                                   \n",
      "2011-11-04 03:26:00   GERA2 -149.630661  61.277966  30.20\n",
      "2011-11-04 04:26:00   GERA2 -149.630661  61.277966  30.20\n",
      "2011-11-04 05:26:00   GERA2 -149.630661  61.277966  30.38\n",
      "2011-11-04 07:26:00   GERA2 -149.630661  61.277966  30.38\n",
      "2011-11-04 08:26:00   GERA2 -149.630661  61.277966  30.38\n",
      "...                     ...         ...        ...    ...\n",
      "2017-09-20 02:20:00   GERA2 -149.630661  61.277966  53.24\n",
      "2017-09-20 03:20:00   GERA2 -149.630661  61.277966  53.60\n",
      "2017-09-20 04:10:00   GERA2 -149.630661  61.277966  53.78\n",
      "2017-09-20 06:20:00   GERA2 -149.630661  61.277966  54.32\n",
      "2017-09-20 10:20:00   GERA2 -149.630661  61.277966  20.48\n",
      "\n",
      "[38311 rows x 4 columns]\n"
     ]
    }
   ],
   "source": [
    "# CHECK NAN COUNT\n",
    "\n",
    "num_rows = len(temp_data.index)\n",
    "print(f\"Entries: {num_rows}\")\n",
    "temp_data_dropped = temp_data.dropna()\n",
    "num_rows_dropped = len(temp_data_dropped.index)\n",
    "print(f\"Entries after the drop: {num_rows_dropped}\")\n",
    "\n",
    "print(temp_data_dropped)"
   ]
  },
  {
   "cell_type": "code",
   "execution_count": 22,
   "metadata": {},
   "outputs": [
    {
     "name": "stdout",
     "output_type": "stream",
     "text": [
      "             longitude   latitude       subf\n",
      "obtime                                      \n",
      "2011-11-04 -149.630661  61.277966  30.493684\n",
      "2011-11-05 -149.630661  61.277966  30.792500\n",
      "2011-11-06 -149.630661  61.277966  29.733636\n",
      "2011-11-07 -149.630661  61.277966  30.192174\n",
      "2011-11-08 -149.630661  61.277966  29.330000\n",
      "...                ...        ...        ...\n",
      "2022-12-27 -149.630661  61.277966        NaN\n",
      "2022-12-28 -149.630661  61.277966        NaN\n",
      "2022-12-29 -149.630661  61.277966        NaN\n",
      "2022-12-30 -149.630661  61.277966        NaN\n",
      "2022-12-31 -149.630661  61.277966        NaN\n",
      "\n",
      "[4076 rows x 3 columns]\n"
     ]
    }
   ],
   "source": [
    "# RESAMPLE TEMPERATURE DATA\n",
    "\n",
    "temp_data = temp_data.resample('D').mean()\n",
    "print(temp_data)\n",
    "temp_data.to_pickle(\"D:/UAF/PHYS Capstone/rwis_resampled.pickle\")"
   ]
  }
 ],
 "metadata": {
  "kernelspec": {
   "display_name": "SAMIII-data",
   "language": "python",
   "name": "python3"
  },
  "language_info": {
   "codemirror_mode": {
    "name": "ipython",
    "version": 3
   },
   "file_extension": ".py",
   "mimetype": "text/x-python",
   "name": "python",
   "nbconvert_exporter": "python",
   "pygments_lexer": "ipython3",
   "version": "3.10.6"
  },
  "orig_nbformat": 4
 },
 "nbformat": 4,
 "nbformat_minor": 2
}
